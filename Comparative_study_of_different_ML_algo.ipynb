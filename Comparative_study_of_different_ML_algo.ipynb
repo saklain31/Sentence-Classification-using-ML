{
  "nbformat": 4,
  "nbformat_minor": 0,
  "metadata": {
    "colab": {
      "name": "Comparative study of different ML algo.ipynb",
      "version": "0.3.2",
      "provenance": [],
      "collapsed_sections": []
    },
    "kernelspec": {
      "name": "python3",
      "display_name": "Python 3"
    },
    "accelerator": "GPU"
  },
  "cells": [
    {
      "cell_type": "code",
      "metadata": {
        "id": "KGOaSGyN7y-A",
        "colab_type": "code",
        "colab": {}
      },
      "source": [
        "from google.colab import files\n",
        "uploaded = files.upload()"
      ],
      "execution_count": 0,
      "outputs": []
    },
    {
      "cell_type": "code",
      "metadata": {
        "id": "HAZRFZkTSRMC",
        "colab_type": "code",
        "colab": {}
      },
      "source": [
        "!pip install gensim\n",
        "!pip install nltk"
      ],
      "execution_count": 0,
      "outputs": []
    },
    {
      "cell_type": "code",
      "metadata": {
        "id": "lQikR-Sr_bdv",
        "colab_type": "code",
        "colab": {}
      },
      "source": [
        "import csv\n",
        "import pandas as pd\n",
        "from sklearn.model_selection import train_test_split\n",
        "from pandas import DataFrame\n",
        "import random\n",
        "import numpy as np\n",
        "\n",
        "\n",
        "import gensim\n",
        "import nltk\n",
        "from sklearn.model_selection import train_test_split\n",
        "from sklearn.feature_extraction.text import CountVectorizer, TfidfVectorizer\n",
        "from sklearn.metrics import accuracy_score, confusion_matrix\n"
      ],
      "execution_count": 0,
      "outputs": []
    },
    {
      "cell_type": "code",
      "metadata": {
        "id": "w9dlRCGM_5lc",
        "colab_type": "code",
        "colab": {}
      },
      "source": [
        "\n",
        "data = pd.read_csv('text_data.csv')\n",
        "datalist = data.values.tolist()\n",
        "\n",
        "print(type(datalist))\n",
        "\n",
        "questions = []\n",
        "intents = []\n",
        "\n",
        "ln = len(datalist)\n",
        "for i in range(ln):\n",
        "  questions.append(datalist[i][0])\n",
        "  intents.append(datalist[i][1])\n",
        "\n",
        "print(questions[0],intents[0])"
      ],
      "execution_count": 0,
      "outputs": []
    },
    {
      "cell_type": "code",
      "metadata": {
        "id": "BCc-gI20DAs7",
        "colab_type": "code",
        "colab": {}
      },
      "source": [
        "X_train, X_test, y_train, y_test = train_test_split(questions, intents, test_size=0.3, random_state = 42)"
      ],
      "execution_count": 0,
      "outputs": []
    },
    {
      "cell_type": "code",
      "metadata": {
        "id": "Sl7hiFHlSrBG",
        "colab_type": "code",
        "colab": {}
      },
      "source": [
        "from sklearn.model_selection import train_test_split\n",
        "from sklearn.metrics import roc_curve, auc, confusion_matrix, classification_report,accuracy_score\n",
        "from sklearn.ensemble import RandomForestClassifier\n",
        "from sklearn.metrics import accuracy_score, log_loss\n",
        "from sklearn.neighbors import KNeighborsClassifier\n",
        "from sklearn.svm import SVC, LinearSVC, NuSVC\n",
        "from sklearn.tree import DecisionTreeClassifier\n",
        "from sklearn.ensemble import RandomForestClassifier, AdaBoostClassifier, GradientBoostingClassifier\n",
        "from sklearn.naive_bayes import GaussianNB\n",
        "from sklearn.linear_model import LogisticRegression\n",
        "from sklearn.discriminant_analysis import LinearDiscriminantAnalysis\n",
        "from sklearn.discriminant_analysis import QuadraticDiscriminantAnalysis\n",
        "from sklearn.metrics import accuracy_score, precision_score, f1_score, log_loss\n",
        "from sklearn.metrics import classification_report,confusion_matrix, precision_recall_fscore_support \n",
        "from sklearn.svm import SVC\n",
        "from sklearn.model_selection import train_test_split, GridSearchCV\n",
        "from sklearn import svm\n",
        "from sklearn.metrics import confusion_matrix\n",
        "\n",
        "import matplotlib.pyplot as plt\n",
        "\n",
        "from sklearn.naive_bayes import MultinomialNB\n",
        "Ffrom sklearn.feature_extraction.text import TfidfTransformer\n",
        "from sklearn.linear_model import SGDClassifier\n",
        "\n",
        "%matplotlib inline"
      ],
      "execution_count": 0,
      "outputs": []
    },
    {
      "cell_type": "code",
      "metadata": {
        "id": "JVobIyLETc0L",
        "colab_type": "code",
        "colab": {}
      },
      "source": [
        "# classifiers = [\n",
        "#     KNeighborsClassifier(5),\n",
        "#     SVC(C=.1, degree=1, kernel='rbf', probability=True),\n",
        "#     NuSVC(nu=.1, degree=1, kernel='poly', probability=True),\n",
        "#     DecisionTreeClassifier(),\n",
        "#     RandomForestClassifier(),\n",
        "#     AdaBoostClassifier(),\n",
        "#     GradientBoostingClassifier(),\n",
        "#     MultinomialNB(),\n",
        "#     SGDClassifier(loss='hinge', penalty='l2',alpha=1e-3, random_state=42, max_iter=5, tol=None),\n",
        "#     LogisticRegression()]"
      ],
      "execution_count": 0,
      "outputs": []
    },
    {
      "cell_type": "code",
      "metadata": {
        "id": "q-Q9d23XaSEe",
        "colab_type": "code",
        "colab": {}
      },
      "source": [
        "classifiers = [\n",
        "    NuSVC(nu=.1, degree=1, kernel='poly', probability=True),\n",
        "    SGDClassifier(loss='hinge', penalty='l2',alpha=1e-3, random_state=42, max_iter=5, tol=None),\n",
        "    ]"
      ],
      "execution_count": 0,
      "outputs": []
    },
    {
      "cell_type": "code",
      "metadata": {
        "id": "oGV7SnkriJ3t",
        "colab_type": "code",
        "colab": {}
      },
      "source": [
        "kernel = ['linear', 'rbf'] # poly is not getting good acc\n",
        "nu = [.1, .2, .3]#.4, .5, .6, .7, .8, .9, 1]\n",
        "deg = range(1,9)\n",
        "for i in kernel:\n",
        "  for j in nu:\n",
        "    for k in deg:\n",
        "\n",
        "      clf = Pipeline([('vect', CountVectorizer()),\n",
        "               ('tfidf', TfidfTransformer()),\n",
        "               ('clf', NuSVC(nu=j, degree=k, kernel=i, probability=True))\n",
        "              ])\n",
        "      clf.fit(X_train, y_train)\n",
        "      print(\"=\"*30)\n",
        "      print(i, j, k)\n",
        "      try:\n",
        "        print('****Results****')\n",
        "        train_predictions = clf.predict(X_test)\n",
        "        acc = accuracy_score(y_test, train_predictions)\n",
        "        print(\"Accuracy: {:.4%}\".format(acc))\n",
        "#         print(\"accuracy_score: \\n\",accuracy_score(y_test, train_predictions))\n",
        "        print(\"precision_score: \\n\",precision_score(y_test, train_predictions))\n",
        "        print(\"f1_score: \\n\",f1_score(y_test, train_predictions))\n",
        "#         print(\"classification_report: \\n\",classification_report(y_test, train_predictions))\n",
        "        print(\"confusion_matrix: \\n\",confusion_matrix(y_test, train_predictions))\n",
        "        print(\"log_loss: \\n\",log_loss(y_test, train_predictions))\n",
        "        log_entry = pd.DataFrame([[name, acc*100, log_loss(y_test, train_predictions)]], columns=log_cols)\n",
        "        log = log.append(log_entry)\n",
        "      except Exception as e:\n",
        "        print (e)\n",
        "      \n",
        "      \n",
        "\n",
        "  "
      ],
      "execution_count": 0,
      "outputs": []
    },
    {
      "cell_type": "code",
      "metadata": {
        "id": "JPyNHQpSaR81",
        "colab_type": "code",
        "colab": {}
      },
      "source": [
        "# Logging for Visual Comparison\n",
        "log_cols=[\"Classifier\", \"Accuracy\", 'Log Loss']\n",
        "log = pd.DataFrame(columns=log_cols)"
      ],
      "execution_count": 0,
      "outputs": []
    },
    {
      "cell_type": "code",
      "metadata": {
        "id": "f5yXVD7gaR1V",
        "colab_type": "code",
        "colab": {}
      },
      "source": [
        "# nb = Pipeline([('vect', CountVectorizer()),\n",
        "#                ('tfidf', TfidfTransformer()),\n",
        "#                ('clf', MultinomialNB()),\n",
        "#               ])\n",
        "# nb.fit(X_train, y_train)\n",
        "\n",
        "\n",
        "# from sklearn.metrics import classification_report\n",
        "# y_pred = nb.predict(X_test)\n",
        "\n",
        "# print('accuracy %s' % accuracy_score(y_pred, y_test))\n",
        "# print(classification_report(y_test, y_pred))\n",
        "\n",
        "\n",
        "for clf in classifiers:\n",
        "    name = clf\n",
        "    clf = Pipeline([('vect', CountVectorizer()),\n",
        "               ('tfidf', TfidfTransformer()),\n",
        "               ('clf', clf),\n",
        "              ])\n",
        "    clf.fit(X_train, y_train)\n",
        "#     name = clf.__class__.__name__\n",
        "    \n",
        "    print(\"=\"*30)\n",
        "    print(name)\n",
        "    try:\n",
        "        print('****Results****')\n",
        "        train_predictions = clf.predict(X_test)\n",
        "        acc = accuracy_score(y_test, train_predictions)\n",
        "        print(\"Accuracy: {:.4%}\".format(acc))\n",
        "#         print(\"accuracy_score: \\n\",accuracy_score(y_test, train_predictions))\n",
        "        print(\"precision_score: \\n\",precision_score(y_test, train_predictions))\n",
        "        print(\"f1_score: \\n\",f1_score(y_test, train_predictions))\n",
        "#         print(\"classification_report: \\n\",classification_report(y_test, train_predictions))\n",
        "        print(\"confusion_matrix: \\n\",confusion_matrix(y_test, train_predictions))\n",
        "        print(\"log_loss: \\n\",log_loss(y_test, train_predictions))\n",
        "        log_entry = pd.DataFrame([[name, acc*100, log_loss(y_test, train_predictions)]], columns=log_cols)\n",
        "        log = log.append(log_entry)\n",
        "    except Exception as e:\n",
        "        print (e)\n",
        "    \n",
        "print(\"=\"*30)"
      ],
      "execution_count": 0,
      "outputs": []
    },
    {
      "cell_type": "code",
      "metadata": {
        "id": "9sgllLSBaRuz",
        "colab_type": "code",
        "colab": {}
      },
      "source": [
        ""
      ],
      "execution_count": 0,
      "outputs": []
    },
    {
      "cell_type": "code",
      "metadata": {
        "id": "RqW9eC9XaRno",
        "colab_type": "code",
        "colab": {}
      },
      "source": [
        ""
      ],
      "execution_count": 0,
      "outputs": []
    },
    {
      "cell_type": "code",
      "metadata": {
        "id": "x2d72TUFaRfp",
        "colab_type": "code",
        "colab": {}
      },
      "source": [
        ""
      ],
      "execution_count": 0,
      "outputs": []
    },
    {
      "cell_type": "code",
      "metadata": {
        "id": "L5y49M_RaRS-",
        "colab_type": "code",
        "colab": {}
      },
      "source": [
        ""
      ],
      "execution_count": 0,
      "outputs": []
    },
    {
      "cell_type": "code",
      "metadata": {
        "id": "QyEqaa6naRBF",
        "colab_type": "code",
        "colab": {}
      },
      "source": [
        ""
      ],
      "execution_count": 0,
      "outputs": []
    },
    {
      "cell_type": "code",
      "metadata": {
        "id": "d8ZjldlPDyLY",
        "colab_type": "code",
        "colab": {}
      },
      "source": [
        "############   NAIVE BAYES CLASSIFIER   ##############\n",
        "\n",
        "from sklearn.naive_bayes import MultinomialNB\n",
        "from sklearn.pipeline import Pipeline\n",
        "from sklearn.feature_extraction.text import TfidfTransformer\n",
        "\n",
        "nb = Pipeline([('vect', CountVectorizer()),\n",
        "               ('tfidf', TfidfTransformer()),\n",
        "               ('clf', MultinomialNB()),\n",
        "              ])\n",
        "nb.fit(X_train, y_train)\n",
        "\n",
        "\n",
        "from sklearn.metrics import classification_report\n",
        "y_pred = nb.predict(X_test)\n",
        "\n",
        "print('accuracy %s' % accuracy_score(y_pred, y_test))\n",
        "print(classification_report(y_test, y_pred))"
      ],
      "execution_count": 0,
      "outputs": []
    },
    {
      "cell_type": "code",
      "metadata": {
        "id": "0MU4zTspETc6",
        "colab_type": "code",
        "colab": {}
      },
      "source": [
        "############  SVM  ##########\n",
        "from sklearn.linear_model import SGDClassifier\n",
        "\n",
        "sgd = Pipeline([('vect', CountVectorizer()),\n",
        "                ('tfidf', TfidfTransformer()),\n",
        "                ('clf', SGDClassifier(loss='hinge', penalty='l2',alpha=1e-3, random_state=42, max_iter=5, tol=None)),\n",
        "               ])\n",
        "sgd.fit(X_train, y_train)\n",
        "\n",
        "y_pred = sgd.predict(X_test)\n",
        "\n",
        "print('accuracy %s' % accuracy_score(y_pred, y_test))\n",
        "print(classification_report(y_test, y_pred))"
      ],
      "execution_count": 0,
      "outputs": []
    },
    {
      "cell_type": "code",
      "metadata": {
        "id": "mSpJKeHUEkEg",
        "colab_type": "code",
        "colab": {}
      },
      "source": [
        "#########   Logistic Regression   ##########\n",
        "from sklearn.linear_model import LogisticRegression\n",
        "\n",
        "logreg = Pipeline([('vect', CountVectorizer()),\n",
        "                ('tfidf', TfidfTransformer()),\n",
        "                ('clf', LogisticRegression(n_jobs=1, C=1e5)),\n",
        "               ])\n",
        "logreg.fit(X_train, y_train)\n",
        "\n",
        "y_pred = logreg.predict(X_test)\n",
        "\n",
        "print('accuracy %s' % accuracy_score(y_pred, y_test))\n",
        "print(classification_report(y_test, y_pred))"
      ],
      "execution_count": 0,
      "outputs": []
    },
    {
      "cell_type": "code",
      "metadata": {
        "id": "L_QmChZAEtoj",
        "colab_type": "code",
        "colab": {}
      },
      "source": [
        ""
      ],
      "execution_count": 0,
      "outputs": []
    }
  ]
}